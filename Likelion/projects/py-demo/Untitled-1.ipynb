{
 "cells": [
  {
   "cell_type": "code",
   "execution_count": 2,
   "metadata": {},
   "outputs": [
    {
     "ename": "TypeError",
     "evalue": "__init__() takes 3 positional arguments but 4 were given",
     "output_type": "error",
     "traceback": [
      "\u001b[0;31m---------------------------------------------------------------------------\u001b[0m",
      "\u001b[0;31mTypeError\u001b[0m                                 Traceback (most recent call last)",
      "\u001b[1;32m/Users/machoney/DailyStudy/Likelion/projects/py-demo/Untitled-1.ipynb Cell 1'\u001b[0m in \u001b[0;36m<cell line: 30>\u001b[0;34m()\u001b[0m\n\u001b[1;32m     <a href='vscode-notebook-cell:/Users/machoney/DailyStudy/Likelion/projects/py-demo/Untitled-1.ipynb#ch0000000?line=26'>27</a>\u001b[0m         \u001b[39mreturn\u001b[39;00m \u001b[39mf\u001b[39m\u001b[39m\"\u001b[39m\u001b[39mname: \u001b[39m\u001b[39m{\u001b[39;00m\u001b[39mself\u001b[39m\u001b[39m.\u001b[39mname\u001b[39m}\u001b[39;00m\u001b[39m, color: \u001b[39m\u001b[39m{\u001b[39;00m\u001b[39mself\u001b[39m\u001b[39m.\u001b[39mcolor\u001b[39m}\u001b[39;00m\u001b[39m, fuel: \u001b[39m\u001b[39m{\u001b[39;00m\u001b[39mself\u001b[39m\u001b[39m.\u001b[39mfuel\u001b[39m}\u001b[39;00m\u001b[39m\"\u001b[39m\n\u001b[1;32m     <a href='vscode-notebook-cell:/Users/machoney/DailyStudy/Likelion/projects/py-demo/Untitled-1.ipynb#ch0000000?line=28'>29</a>\u001b[0m \u001b[39m#object를 만든 설계도 class를 활용해 sonata라는 object를 만들어보자\u001b[39;00m\n\u001b[0;32m---> <a href='vscode-notebook-cell:/Users/machoney/DailyStudy/Likelion/projects/py-demo/Untitled-1.ipynb#ch0000000?line=29'>30</a>\u001b[0m sonata \u001b[39m=\u001b[39m Car(\u001b[39m\"\u001b[39;49m\u001b[39m쏘나타\u001b[39;49m\u001b[39m\"\u001b[39;49m,\u001b[39m\"\u001b[39;49m\u001b[39m은색\u001b[39;49m\u001b[39m\"\u001b[39;49m,\u001b[39m\"\u001b[39;49m\u001b[39m휘발유\u001b[39;49m\u001b[39m\"\u001b[39;49m)\n\u001b[1;32m     <a href='vscode-notebook-cell:/Users/machoney/DailyStudy/Likelion/projects/py-demo/Untitled-1.ipynb#ch0000000?line=30'>31</a>\u001b[0m \u001b[39m# # self 자리에 sonata 가 들어간다.\u001b[39;00m\n\u001b[1;32m     <a href='vscode-notebook-cell:/Users/machoney/DailyStudy/Likelion/projects/py-demo/Untitled-1.ipynb#ch0000000?line=31'>32</a>\u001b[0m \n\u001b[1;32m     <a href='vscode-notebook-cell:/Users/machoney/DailyStudy/Likelion/projects/py-demo/Untitled-1.ipynb#ch0000000?line=32'>33</a>\u001b[0m \u001b[39m# #member parameter\u001b[39;00m\n\u001b[0;32m   (...)\u001b[0m\n\u001b[1;32m     <a href='vscode-notebook-cell:/Users/machoney/DailyStudy/Likelion/projects/py-demo/Untitled-1.ipynb#ch0000000?line=39'>40</a>\u001b[0m \n\u001b[1;32m     <a href='vscode-notebook-cell:/Users/machoney/DailyStudy/Likelion/projects/py-demo/Untitled-1.ipynb#ch0000000?line=40'>41</a>\u001b[0m \u001b[39m#class 자체를 프린트 할 때 어디에 할당된지 정보를 표현해버린다\u001b[39;00m\n\u001b[1;32m     <a href='vscode-notebook-cell:/Users/machoney/DailyStudy/Likelion/projects/py-demo/Untitled-1.ipynb#ch0000000?line=41'>42</a>\u001b[0m \u001b[39mprint\u001b[39m(sonata)\n",
      "\u001b[0;31mTypeError\u001b[0m: __init__() takes 3 positional arguments but 4 were given"
     ]
    }
   ],
   "source": [
    "#init = 생성자를 호출한다\n",
    "#self는 왜 스킵하는가...?\n",
    "\n",
    "class Car:\n",
    "    count = 0\n",
    "\n",
    "    def __init__(self,name,color,fuel):\n",
    "        self.name = name\n",
    "        self.color = color\n",
    "        self.fuel = fuel\n",
    "        # += 해당하는 만큼 값을 늘려준다\n",
    "        # 해당 class를 사용한 수를 나타내고 싶을 때\n",
    "        car.count += 1\n",
    "\n",
    "    def __init__(self,color,fuel):\n",
    "        self.color = color\n",
    "        self.fuel = fuel\n",
    "        # += 해당하는 만큼 값을 늘려준다\n",
    "        # 해당 class를 사용한 수를 나타내고 싶을 때\n",
    "        car.count += 1\n",
    "\n",
    "\n",
    "    def drive(self):\n",
    "        print(f\"Let's drive {self.name}\")\n",
    "\n",
    "    def str(self): \n",
    "        return f\"name: {self.name}, color: {self.color}, fuel: {self.fuel}\"\n",
    "\n",
    "#object를 만든 설계도 class를 활용해 sonata라는 object를 만들어보자\n",
    "sonata = Car(\"쏘나타\",\"은색\",\"휘발유\")\n",
    "# # self 자리에 sonata 가 들어간다.\n",
    "\n",
    "# #member parameter\n",
    "# print(sonata.name)\n",
    "# print(sonata.color)\n",
    "# print(sonata.fuel)\n",
    "\n",
    "# #member function\n",
    "# sonata.drive()\n",
    "\n",
    "#class 자체를 프린트 할 때 어디에 할당된지 정보를 표현해버린다\n",
    "print(sonata)\n",
    "print(car.count)\n",
    "print(sonata)\n",
    "print(sonata)\n",
    "\n",
    "#object의 정보를 나타내게 하고싶다면 class 자체에 def str(): return\"\"을 활용해야 한다.\n",
    "def str(self): \n",
    "    return f\"name: {self.name}, color: {self.color}, fuel: {self.fuel}\"\n",
    "\n",
    "\n",
    "k5 = car(\"k5\",\"은색\",\"휘발유\")\n",
    "print(k5)\n",
    "print(car.count)\n",
    "\n",
    "sm5 = car(\"k5\",\"은색\",\"휘발유\")\n",
    "print(sm5)\n",
    "print(car.count)\n",
    "\n",
    "morning = car(\"흰색\",\"휘발유\")\n",
    "print(morning)\n"
   ]
  },
  {
   "cell_type": "code",
   "execution_count": null,
   "metadata": {},
   "outputs": [],
   "source": []
  }
 ],
 "metadata": {
  "kernelspec": {
   "display_name": "Python 3.8.8 ('pyStudy')",
   "language": "python",
   "name": "python3"
  },
  "language_info": {
   "codemirror_mode": {
    "name": "ipython",
    "version": 3
   },
   "file_extension": ".py",
   "mimetype": "text/x-python",
   "name": "python",
   "nbconvert_exporter": "python",
   "pygments_lexer": "ipython3",
   "version": "3.8.8"
  },
  "orig_nbformat": 4,
  "vscode": {
   "interpreter": {
    "hash": "6e67753c16359c9c1c1b5896042d281dae29fc17996a6b3191feb1a39c4a237e"
   }
  }
 },
 "nbformat": 4,
 "nbformat_minor": 2
}
