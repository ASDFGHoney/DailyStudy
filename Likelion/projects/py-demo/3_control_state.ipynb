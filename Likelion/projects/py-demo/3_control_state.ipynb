{
 "cells": [
  {
   "cell_type": "code",
   "execution_count": 1,
   "metadata": {},
   "outputs": [
    {
     "name": "stdout",
     "output_type": "stream",
     "text": [
      "hello world\n"
     ]
    }
   ],
   "source": [
    "print(\"hello world\")"
   ]
  },
  {
   "cell_type": "code",
   "execution_count": 2,
   "metadata": {},
   "outputs": [
    {
     "data": {
      "text/plain": [
       "22"
      ]
     },
     "execution_count": 2,
     "metadata": {},
     "output_type": "execute_result"
    }
   ],
   "source": [
    "a = int(input(\"입력좀..: \"))\n",
    "\n",
    "if "
   ]
  },
  {
   "cell_type": "code",
   "execution_count": 5,
   "metadata": {},
   "outputs": [
    {
     "name": "stdout",
     "output_type": "stream",
     "text": [
      "Login Failed\n"
     ]
    }
   ],
   "source": [
    "user = {\n",
    "    \"username\": \"aquashdw\",\n",
    "    \"password\": \"12345679\",\n",
    "}\n",
    "\n",
    "username = input(\"input username: \")\n",
    "password = input(\"input password: \")\n",
    "\n",
    "if user[\"username\"] == username and user[\"password\"] == password:\n",
    "    print(\"Login Success\")\n",
    "else:\n",
    "    print(\"Login Failed\")\n",
    "\n"
   ]
  },
  {
   "cell_type": "code",
   "execution_count": 3,
   "metadata": {},
   "outputs": [
    {
     "name": "stdout",
     "output_type": "stream",
     "text": [
      "0\n",
      "1\n",
      "2\n",
      "3\n",
      "4\n",
      "5\n",
      "6\n",
      "7\n",
      "8\n",
      "9\n"
     ]
    }
   ],
   "source": [
    "i=0\n",
    "while i<10:\n",
    "  print(i)\n",
    "  i=i+1"
   ]
  },
  {
   "cell_type": "code",
   "execution_count": 7,
   "metadata": {},
   "outputs": [
    {
     "name": "stdout",
     "output_type": "stream",
     "text": [
      "[{'name': '강남규'}, {'name': '성지용'}, {'name': '송치헌'}, {'name': '강대영'}]\n"
     ]
    }
   ],
   "source": [
    "name_list2 = [\"강남규\", \"성지용\", \"송치헌\", \"강대영\"]\n",
    "name_dict_list\n",
    "\n",
    "for name in name_list2:\n",
    "  name_dict_list.append({\n",
    "    \"name\":name,\n",
    "  })\n",
    "  \n",
    "print(name_dict_list)"
   ]
  },
  {
   "cell_type": "code",
   "execution_count": 8,
   "metadata": {},
   "outputs": [
    {
     "name": "stdout",
     "output_type": "stream",
     "text": [
      "We have chicken\n",
      "c\n",
      "h\n",
      "i\n",
      "c\n",
      "k\n",
      "e\n",
      "n\n",
      "We have pizza\n",
      "p\n",
      "i\n",
      "z\n",
      "z\n",
      "a\n",
      "We have beer\n",
      "b\n",
      "e\n",
      "e\n",
      "r\n"
     ]
    }
   ],
   "source": [
    "menu_list = [\"chicken\", \"pizza\", \"beer\"]\n",
    "\n",
    "for menu in menu_list:\n",
    "  print(f\"We have {menu}\")\n",
    "  for char in menu:\n",
    "    print(char)"
   ]
  },
  {
   "cell_type": "code",
   "execution_count": 9,
   "metadata": {},
   "outputs": [],
   "source": [
    "athlete = {\n",
    "    \"name\": \"오진혁\",\n",
    "    \"event\": \"archery\",\n",
    "    \"age\": 40,\n",
    "    \"height\": 182,\n",
    "    \"participated\": [\n",
    "        \"2012 London Olympics\",\n",
    "        \"2020 Tokyo Olympics\",\n",
    "    ],\n",
    "    \"medals\": [\n",
    "        {\n",
    "            \"games\": \"2012 London Olympics\",\n",
    "            \"event\": \"archery\",\n",
    "            \"competition\": \"men individual\",\n",
    "            \"medal\": \"gold\"\n",
    "        },\n",
    "        {\n",
    "            \"games\": \"2012 London Olympics\",\n",
    "            \"event\": \"archery\",\n",
    "            \"competition\": \"men's team\",\n",
    "            \"medal\": \"bronze\"\n",
    "        },\n",
    "        {\n",
    "            \"games\": \"2020 Tokyo Olympics\",\n",
    "            \"event\": \"archery\",\n",
    "            \"competition\": \"men's team\",\n",
    "            \"medal\": \"gold\"\n",
    "        }\n",
    "    ],\n",
    "}"
   ]
  },
  {
   "cell_type": "code",
   "execution_count": 16,
   "metadata": {},
   "outputs": [
    {
     "name": "stdout",
     "output_type": "stream",
     "text": [
      "key : value\n",
      "name : 오진혁\n",
      "event : archery\n",
      "age : 40\n",
      "height : 182\n",
      "participated : ['2012 London Olympics', '2020 Tokyo Olympics']\n",
      "medals : [{'games': '2012 London Olympics', 'event': 'archery', 'competition': 'men individual', 'medal': 'gold'}, {'games': '2012 London Olympics', 'event': 'archery', 'competition': \"men's team\", 'medal': 'bronze'}, {'games': '2020 Tokyo Olympics', 'event': 'archery', 'competition': \"men's team\", 'medal': 'gold'}]\n"
     ]
    }
   ],
   "source": [
    "print(\"key : value\")\n",
    "for key in athlete.keys():\n",
    "  print(f\"{key} : {athlete.get(key)}\")\n",
    "  "
   ]
  },
  {
   "cell_type": "code",
   "execution_count": 17,
   "metadata": {},
   "outputs": [
    {
     "name": "stdout",
     "output_type": "stream",
     "text": [
      "name : 오진혁\n",
      "event : archery\n",
      "age : 40\n",
      "height : 182\n",
      "participated : ['2012 London Olympics', '2020 Tokyo Olympics']\n",
      "medals : [{'games': '2012 London Olympics', 'event': 'archery', 'competition': 'men individual', 'medal': 'gold'}, {'games': '2012 London Olympics', 'event': 'archery', 'competition': \"men's team\", 'medal': 'bronze'}, {'games': '2020 Tokyo Olympics', 'event': 'archery', 'competition': \"men's team\", 'medal': 'gold'}]\n"
     ]
    }
   ],
   "source": [
    "for key, value in athlete.items():\n",
    "  print(f\"{key} : {value}\")"
   ]
  },
  {
   "cell_type": "code",
   "execution_count": 18,
   "metadata": {},
   "outputs": [
    {
     "name": "stdout",
     "output_type": "stream",
     "text": [
      "Login Success!\n",
      "Hello!\n"
     ]
    }
   ],
   "source": [
    "password = \"password\"\n",
    "while True:\n",
    "    input_password = input(\"PASSWORD: \")\n",
    "    if input_password == password:\n",
    "        print(\"Login Success!\")\n",
    "        break\n",
    "\n",
    "    print(\"Incorrect!\")\n",
    "    print(\"Try again\")\n",
    "\n",
    "print(\"Hello!\")"
   ]
  },
  {
   "cell_type": "code",
   "execution_count": 21,
   "metadata": {},
   "outputs": [],
   "source": [
    "people = [\n",
    "    { \"vaccinated\": True }, \n",
    "    { \"vaccinated\": False }, \n",
    "    { \"vaccinated\": True }, \n",
    "    { \"vaccinated\": False }, \n",
    "    { \"vaccinated\": True }, \n",
    "    { \"vaccinated\": True }, \n",
    "    { \"vaccinated\": False }, \n",
    "    { \"vaccinated\": True }, \n",
    "]\n",
    "\n",
    "count = 0\n",
    "\n",
    "for person in people:\n",
    "  if person[\"vaccinated\"]:\n",
    "    continue\n",
    "  \n",
    "  count += 1"
   ]
  },
  {
   "cell_type": "code",
   "execution_count": null,
   "metadata": {},
   "outputs": [],
   "source": []
  }
 ],
 "metadata": {
  "kernelspec": {
   "display_name": "Python 3.9.12 64-bit",
   "language": "python",
   "name": "python3"
  },
  "language_info": {
   "codemirror_mode": {
    "name": "ipython",
    "version": 3
   },
   "file_extension": ".py",
   "mimetype": "text/x-python",
   "name": "python",
   "nbconvert_exporter": "python",
   "pygments_lexer": "ipython3",
   "version": "3.9.12"
  },
  "orig_nbformat": 4,
  "vscode": {
   "interpreter": {
    "hash": "b0fa6594d8f4cbf19f97940f81e996739fb7646882a419484c72d19e05852a7e"
   }
  }
 },
 "nbformat": 4,
 "nbformat_minor": 2
}
