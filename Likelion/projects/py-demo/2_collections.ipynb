{
 "cells": [
  {
   "cell_type": "code",
   "execution_count": 1,
   "metadata": {},
   "outputs": [
    {
     "name": "stdout",
     "output_type": "stream",
     "text": [
      "['문한결', '임민정']\n",
      "['강남규', '문한결', '임민정']\n",
      "qkqh\n"
     ]
    },
    {
     "data": {
      "text/plain": [
       "{'name': 'qkqh', 'age': 18}"
      ]
     },
     "execution_count": 1,
     "metadata": {},
     "output_type": "execute_result"
    }
   ],
   "source": [
    "name = \"강대영\"\n",
    "gender = \"male\"\n",
    "major = \"marketing\"\n",
    "\n",
    "name = \"이준석\"\n",
    "gender = \"male\"\n",
    "major = \"Spanish\"\n",
    "\n",
    "name_list = [\"강남규\"]\n",
    "\n",
    "name_list.extend([\"문한결\", \"임민정\"])\n",
    "name_list.append([\"문한결\", \"임민정\"])\n",
    "print(name_list.pop())\n",
    "print(name_list)\n",
    "\n",
    "athlete_oh = {\n",
    "    \"name\": \"qkqh\",\n",
    "    \"age\": 18,\n",
    "}\n",
    "\n",
    "print(athlete_oh[\"name\"])\n",
    "\n",
    "athlete_oh"
   ]
  },
  {
   "cell_type": "markdown",
   "metadata": {},
   "source": [
    "# dict_ 객체?"
   ]
  },
  {
   "cell_type": "code",
   "execution_count": 2,
   "metadata": {},
   "outputs": [
    {
     "name": "stdout",
     "output_type": "stream",
     "text": [
      "dict_keys(['name', 'age'])\n",
      "dict_values(['qkqh', 18])\n",
      "dict_items([('name', 'qkqh'), ('age', 18)])\n",
      "<class 'dict_items'>\n"
     ]
    }
   ],
   "source": [
    "print(athlete_oh.keys())\n",
    "print(athlete_oh.values())\n",
    "print(athlete_oh.items())\n",
    "print(type(athlete_oh.items()))"
   ]
  },
  {
   "cell_type": "code",
   "execution_count": 3,
   "metadata": {},
   "outputs": [],
   "source": [
    "athlete = {\n",
    "    \"name\": \"오진혁\",\n",
    "    \"event\": \"archery\",\n",
    "    \"age\": 40,\n",
    "    \"height\": 182,\n",
    "    \"participated\": [\n",
    "        \"2012 London Olympics\",\n",
    "        \"2020 Tokyo Olympics\",\n",
    "    ],\n",
    "    \"medals\": [\n",
    "        {\n",
    "            \"games\": \"2012 London Olympics\",\n",
    "            \"event\": \"archery\",\n",
    "            \"competition\": \"men individual\",\n",
    "            \"medal\": \"gold\"\n",
    "        },\n",
    "        {\n",
    "            \"games\": \"2012 London Olympics\",\n",
    "            \"event\": \"archery\",\n",
    "            \"competition\": \"men's team\",\n",
    "            \"medal\": \"bronze\"\n",
    "        },\n",
    "        {\n",
    "            \"games\": \"2020 Tokyo Olympics\",\n",
    "            \"event\": \"archery\",\n",
    "            \"competition\": \"men's team\",\n",
    "            \"medal\": \"gold\"\n",
    "        }\n",
    "    ],\n",
    "}"
   ]
  },
  {
   "cell_type": "code",
   "execution_count": 4,
   "metadata": {},
   "outputs": [
    {
     "name": "stdout",
     "output_type": "stream",
     "text": [
      "men individual\n",
      "men's team\n",
      "men's team\n"
     ]
    }
   ],
   "source": [
    "print(athlete[\"medals\"][0][\"competition\"])\n",
    "print(athlete[\"medals\"][1][\"competition\"])\n",
    "print(athlete[\"medals\"][2][\"competition\"])"
   ]
  },
  {
   "cell_type": "markdown",
   "metadata": {},
   "source": [
    "# tuple"
   ]
  },
  {
   "cell_type": "code",
   "execution_count": 5,
   "metadata": {},
   "outputs": [
    {
     "name": "stdout",
     "output_type": "stream",
     "text": [
      "(1, 2, 3)\n",
      "1\n",
      "2\n",
      "3\n"
     ]
    }
   ],
   "source": [
    "a = 1,2,3\n",
    "b,c,d = a\n",
    "print(a)\n",
    "print(b)\n",
    "print(c)\n",
    "print(d)"
   ]
  },
  {
   "cell_type": "code",
   "execution_count": null,
   "metadata": {},
   "outputs": [],
   "source": []
  }
 ],
 "metadata": {
  "kernelspec": {
   "display_name": "Python 3.9.12 64-bit",
   "language": "python",
   "name": "python3"
  },
  "language_info": {
   "codemirror_mode": {
    "name": "ipython",
    "version": 3
   },
   "file_extension": ".py",
   "mimetype": "text/x-python",
   "name": "python",
   "nbconvert_exporter": "python",
   "pygments_lexer": "ipython3",
   "version": "3.9.12"
  },
  "orig_nbformat": 4,
  "vscode": {
   "interpreter": {
    "hash": "b0fa6594d8f4cbf19f97940f81e996739fb7646882a419484c72d19e05852a7e"
   }
  }
 },
 "nbformat": 4,
 "nbformat_minor": 2
}
