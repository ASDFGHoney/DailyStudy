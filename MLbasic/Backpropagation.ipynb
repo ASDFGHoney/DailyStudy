{
 "cells": [
  {
   "cell_type": "code",
   "execution_count": 2,
   "metadata": {},
   "outputs": [
    {
     "name": "stdout",
     "output_type": "stream",
     "text": [
      "[[0.72630335]\n",
      " [0.70859807]\n",
      " [0.77809706]]\n"
     ]
    }
   ],
   "source": [
    "import numpy as np\n",
    "\n",
    "learningRate = 0.1\n",
    "\n",
    "def sigmoid(x):\n",
    "    return 1 / (1 + np.exp(-x))\n",
    "\n",
    "def MSE(targets, values):\n",
    "  res = 0\n",
    "  msee = np.square(np.subtract(targets, values))/2\n",
    "  for i in range(3):\n",
    "    res+=msee[i]\n",
    "  return res\n",
    "\n",
    "def backStep1(target_o , output_o, h, w_before):\n",
    "  s1 = -(target_o-output_o)\n",
    "  s2 = output_o*(1-output_o)\n",
    "  s3 = h\n",
    "  result = s1*s2*s3\n",
    "  return w_before - learningRate*result\n",
    "\n",
    "def backStep2(target_o , output_o, who_w,target_o1 , output_o1, who_w1,target_o2 , output_o2, who_w2,h, w_before):\n",
    "  a1 = -(target_o - output_o)*output_o*(1-output_o)*who_w\n",
    "  a2 = -(target_o1 - output_o1)*output_o1*(1-output_o1)*who_w1\n",
    "  a3 = -(target_o2 - output_o2)*output_o2*(1-output_o2)*who_w2\n",
    "  s1 = a1+a2+a3\n",
    "  s2 = h*(1-h)\n",
    "  s3 = h\n",
    "  return w_before - learningRate*s1*s2*s3\n",
    "  \n",
    "if __name__ == '__main__':\n",
    "    inpData = np.array([[0.9], [0.1], [0.8]])\n",
    "    Wih = np.array([[0.9, 0.3, 0.4], [0.2, 0.8, 0.2], [0.1, 0.5, 0.6]])\n",
    "    Who = np.array([[0.3, 0.7, 0.5], [0.6, 0.5, 0.2], [0.8, 0.1, 0.9]])\n",
    "    targets = np.array([[0.6],[0.8],[0.5]])\n",
    "    \n",
    "    for i in range(1):\n",
    "      Xhid = np.dot(Wih, inpData)\n",
    "      Ohid = sigmoid(Xhid)\n",
    "      Xout = np.dot(Who,Ohid)\n",
    "      Oout = sigmoid(Xout)\n",
    "      \n",
    "      Who = np.array([\n",
    "        [backStep1(targets[0][0], Oout[0][0], Ohid[0][0], Who[0][0]), backStep1(targets[0][0], Oout[0][0], Ohid[1][0], Who[0][1]), backStep1(targets[0][0], Oout[0][0], Ohid[2][0], Who[0][2])],\n",
    "        [backStep1(targets[1][0], Oout[1][0], Ohid[0][0], Who[1][0]), backStep1(targets[1][0], Oout[1][0], Ohid[1][0], Who[1][1]), backStep1(targets[1][0], Oout[1][0], Ohid[2][0], Who[1][2])],\n",
    "        [backStep1(targets[2][0], Oout[2][0], Ohid[0][0], Who[2][0]), backStep1(targets[2][0], Oout[2][0], Ohid[1][0], Who[2][1]), backStep1(targets[2][0], Oout[2][0], Ohid[2][0], Who[2][2])]\n",
    "      ])\n",
    "      \n",
    "      Wih = np.array([\n",
    "        [backStep2(targets[0][0], Oout[0][0],Who[0][0],targets[1][0], Oout[1][0],Who[0][1],targets[2][0], Oout[2][0],Who[0][2],Ohid[0][0],Wih[0][0]), backStep2(targets[0][0], Oout[0][0],Who[1][0],targets[1][0], Oout[1][0],Who[1][1],targets[2][0], Oout[2][0],Who[1][2],Ohid[1][0],Wih[0][1]), backStep2(targets[0][0], Oout[0][0],Who[2][0],targets[1][0], Oout[1][0],Who[2][1],targets[2][0], Oout[2][0],Who[2][2],Ohid[2][0],Wih[0][2])],\n",
    "        [backStep2(targets[0][0], Oout[0][0],Who[0][0],targets[1][0], Oout[1][0],Who[0][1],targets[2][0], Oout[2][0],Who[0][2],Ohid[0][0],Wih[1][0]), backStep2(targets[0][0], Oout[0][0],Who[1][0],targets[1][0], Oout[1][0],Who[1][1],targets[2][0], Oout[2][0],Who[1][2],Ohid[1][0],Wih[1][1]), backStep2(targets[0][0], Oout[0][0],Who[2][0],targets[1][0], Oout[1][0],Who[2][1],targets[2][0], Oout[2][0],Who[2][2],Ohid[2][0],Wih[1][2])],\n",
    "        [backStep2(targets[0][0], Oout[0][0],Who[0][0],targets[1][0], Oout[1][0],Who[0][1],targets[2][0], Oout[2][0],Who[0][2],Ohid[0][0],Wih[2][0]), backStep2(targets[0][0], Oout[0][0],Who[1][0],targets[1][0], Oout[1][0],Who[1][1],targets[2][0], Oout[2][0],Who[1][2],Ohid[1][0],Wih[2][1]), backStep2(targets[0][0], Oout[0][0],Who[2][0],targets[1][0], Oout[1][0],Who[2][1],targets[2][0], Oout[2][0],Who[2][2],Ohid[2][0],Wih[2][2])]\n",
    "      ])\n",
    "    print(Oout)\n"
   ]
  }
 ],
 "metadata": {
  "interpreter": {
   "hash": "304862d81420ed8f6e7d7a781ae544208d671f1b0b8553a826fb8867a59896cf"
  },
  "kernelspec": {
   "display_name": "Python 3.9.9 ('mlStudy')",
   "language": "python",
   "name": "python3"
  },
  "language_info": {
   "codemirror_mode": {
    "name": "ipython",
    "version": 3
   },
   "file_extension": ".py",
   "mimetype": "text/x-python",
   "name": "python",
   "nbconvert_exporter": "python",
   "pygments_lexer": "ipython3",
   "version": "3.9.9"
  },
  "orig_nbformat": 4
 },
 "nbformat": 4,
 "nbformat_minor": 2
}
