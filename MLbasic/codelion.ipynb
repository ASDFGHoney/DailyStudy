{
 "cells": [
  {
   "cell_type": "code",
   "execution_count": 1,
   "metadata": {},
   "outputs": [
    {
     "name": "stdout",
     "output_type": "stream",
     "text": [
      "hello\n"
     ]
    }
   ],
   "source": [
    "print(\"hello\")"
   ]
  },
  {
   "cell_type": "code",
   "execution_count": 4,
   "metadata": {},
   "outputs": [
    {
     "name": "stdout",
     "output_type": "stream",
     "text": [
      "2022년 06월 17일의 실시간 검색어 순위입니다.\n",
      "\n"
     ]
    }
   ],
   "source": [
    "from bs4 import BeautifulSoup\n",
    "import requests\n",
    "from datetime import datetime\n",
    "\n",
    "url = \"http://www.daum.net/\"\n",
    "response = requests.get(url)\n",
    "soup = BeautifulSoup(response.text, 'html.parser')\n",
    "rank = 1\n",
    "\n",
    "results = soup.findAll('a','link_favorsch')\n",
    "\n",
    "search_rank_file = open(\"rankresult.txt\",\"a\")\n",
    "\n",
    "print(datetime.today().strftime(\"%Y년 %m월 %d일의 실시간 검색어 순위입니다.\\n\"))\n",
    "\n",
    "for result in results:\n",
    "    search_rank_file.write(str(rank)+\"위:\"+result.get_text()+\"\\n\")\n",
    "    print(rank,\"위 : \",result.get_text(),\"\\n\")\n",
    "    rank += 1"
   ]
  },
  {
   "cell_type": "code",
   "execution_count": 8,
   "metadata": {},
   "outputs": [
    {
     "name": "stdout",
     "output_type": "stream",
     "text": [
      "<module 'requests' from '/Users/machoney/miniforge3/envs/pyStudy/lib/python3.8/site-packages/requests/__init__.py'>\n",
      "<function get at 0x1141655e0>\n"
     ]
    }
   ],
   "source": [
    "import requests\n",
    "\n",
    "print(requests)\n",
    "\n",
    "print(requests.get)"
   ]
  },
  {
   "cell_type": "code",
   "execution_count": 20,
   "metadata": {},
   "outputs": [
    {
     "name": "stdout",
     "output_type": "stream",
     "text": [
      "text================================================================\n",
      "url================================================================\n",
      "https://www.daum.net\n",
      "content================================================================\n",
      "encoding================================================================\n",
      "ISO-8859-1\n",
      "headers================================================================\n",
      "{'Date': 'Fri, 17 Jun 2022 01:56:38 GMT', 'Content-Type': 'text/html', 'Transfer-Encoding': 'chunked', 'Connection': 'keep-alive', 'Vary': 'Accept-Encoding, Origin, Accept-Encoding', 'Access-Control-Allow-Origin': '*', 'X-WCSS': 'dC1jb21tb24wMS1id2NhY2hlNzowOmNodHRwOjI3', 'Cache-Control': 'no-cache, no-store', 'Pragma': 'no-cache', 'Strict-Transport-Security': 'max-age=15724800', 'Content-Encoding': 'gzip'}\n",
      "json================================================================\n",
      "<bound method Response.json of <Response [200]>>\n",
      "links================================================================\n",
      "{}\n",
      "ok================================================================\n",
      "True\n",
      "status_code================================================================\n",
      "200\n"
     ]
    }
   ],
   "source": [
    "import requests\n",
    "\n",
    "url = \"http://www.daum.net\"\n",
    "response = requests.get(url)\n",
    "\n",
    "print(\"text================================================================\")\n",
    "\n",
    "\n",
    "# print(response.text)\n",
    "print(\"url================================================================\")\n",
    "\n",
    "print(response.url)\n",
    "print(\"content================================================================\")\n",
    "\n",
    "# print(response.content)\n",
    "print(\"encoding================================================================\")\n",
    "\n",
    "print(response.encoding)\n",
    "print(\"headers================================================================\")\n",
    "\n",
    "print(response.headers)\n",
    "print(\"json================================================================\")\n",
    "\n",
    "print(response.json)\n",
    "print(\"links================================================================\")\n",
    "\n",
    "print(response.links)\n",
    "print(\"ok================================================================\")\n",
    "\n",
    "print(response.ok)\n",
    "print(\"status_code================================================================\")\n",
    "\n",
    "print(response.status_code)"
   ]
  },
  {
   "cell_type": "code",
   "execution_count": 21,
   "metadata": {},
   "outputs": [],
   "source": [
    "file = open(\"daum.html\",\"w\")\n",
    "file.write(response.text)\n",
    "file.close()"
   ]
  },
  {
   "cell_type": "code",
   "execution_count": 4,
   "metadata": {},
   "outputs": [
    {
     "ename": "AttributeError",
     "evalue": "'NoneType' object has no attribute 'group'",
     "output_type": "error",
     "traceback": [
      "\u001b[0;31m---------------------------------------------------------------------------\u001b[0m",
      "\u001b[0;31mAttributeError\u001b[0m                            Traceback (most recent call last)",
      "\u001b[1;32m/Users/machoney/DailyStudy/MLbasic/codelion.ipynb Cell 2'\u001b[0m in \u001b[0;36m<cell line: 7>\u001b[0;34m()\u001b[0m\n\u001b[1;32m      <a href='vscode-notebook-cell:/Users/machoney/DailyStudy/MLbasic/codelion.ipynb#ch0000001?line=4'>5</a>\u001b[0m \u001b[39m# sentence = \"안녕하세요 코드라이언입니다.\"\u001b[39;00m\n\u001b[1;32m      <a href='vscode-notebook-cell:/Users/machoney/DailyStudy/MLbasic/codelion.ipynb#ch0000001?line=5'>6</a>\u001b[0m sentence \u001b[39m=\u001b[39m \u001b[39minput\u001b[39m(\u001b[39m\"\u001b[39m\u001b[39m언어를 감지할 문장을 입력해주세요 :\u001b[39m\u001b[39m\"\u001b[39m)\n\u001b[0;32m----> <a href='vscode-notebook-cell:/Users/machoney/DailyStudy/MLbasic/codelion.ipynb#ch0000001?line=6'>7</a>\u001b[0m detected \u001b[39m=\u001b[39m translator\u001b[39m.\u001b[39;49mdetect(sentence)\n\u001b[1;32m      <a href='vscode-notebook-cell:/Users/machoney/DailyStudy/MLbasic/codelion.ipynb#ch0000001?line=8'>9</a>\u001b[0m \u001b[39mprint\u001b[39m(detected\u001b[39m.\u001b[39mlang)\n",
      "File \u001b[0;32m~/miniforge3/envs/pyStudy/lib/python3.8/site-packages/googletrans/client.py:249\u001b[0m, in \u001b[0;36mTranslator.detect\u001b[0;34m(self, text)\u001b[0m\n\u001b[1;32m    246\u001b[0m         result\u001b[39m.\u001b[39mappend(lang)\n\u001b[1;32m    247\u001b[0m     \u001b[39mreturn\u001b[39;00m result\n\u001b[0;32m--> 249\u001b[0m data \u001b[39m=\u001b[39m \u001b[39mself\u001b[39;49m\u001b[39m.\u001b[39;49m_translate(text, dest\u001b[39m=\u001b[39;49m\u001b[39m'\u001b[39;49m\u001b[39men\u001b[39;49m\u001b[39m'\u001b[39;49m, src\u001b[39m=\u001b[39;49m\u001b[39m'\u001b[39;49m\u001b[39mauto\u001b[39;49m\u001b[39m'\u001b[39;49m)\n\u001b[1;32m    251\u001b[0m \u001b[39m# actual source language that will be recognized by Google Translator when the\u001b[39;00m\n\u001b[1;32m    252\u001b[0m \u001b[39m# src passed is equal to auto.\u001b[39;00m\n\u001b[1;32m    253\u001b[0m src \u001b[39m=\u001b[39m \u001b[39m'\u001b[39m\u001b[39m'\u001b[39m\n",
      "File \u001b[0;32m~/miniforge3/envs/pyStudy/lib/python3.8/site-packages/googletrans/client.py:75\u001b[0m, in \u001b[0;36mTranslator._translate\u001b[0;34m(self, text, dest, src)\u001b[0m\n\u001b[1;32m     72\u001b[0m \u001b[39mif\u001b[39;00m \u001b[39mnot\u001b[39;00m PY3 \u001b[39mand\u001b[39;00m \u001b[39misinstance\u001b[39m(text, \u001b[39mstr\u001b[39m):  \u001b[39m# pragma: nocover\u001b[39;00m\n\u001b[1;32m     73\u001b[0m     text \u001b[39m=\u001b[39m text\u001b[39m.\u001b[39mdecode(\u001b[39m'\u001b[39m\u001b[39mutf-8\u001b[39m\u001b[39m'\u001b[39m)\n\u001b[0;32m---> 75\u001b[0m token \u001b[39m=\u001b[39m \u001b[39mself\u001b[39;49m\u001b[39m.\u001b[39;49mtoken_acquirer\u001b[39m.\u001b[39;49mdo(text)\n\u001b[1;32m     76\u001b[0m params \u001b[39m=\u001b[39m utils\u001b[39m.\u001b[39mbuild_params(query\u001b[39m=\u001b[39mtext, src\u001b[39m=\u001b[39msrc, dest\u001b[39m=\u001b[39mdest,\n\u001b[1;32m     77\u001b[0m                             token\u001b[39m=\u001b[39mtoken)\n\u001b[1;32m     78\u001b[0m url \u001b[39m=\u001b[39m urls\u001b[39m.\u001b[39mTRANSLATE\u001b[39m.\u001b[39mformat(host\u001b[39m=\u001b[39m\u001b[39mself\u001b[39m\u001b[39m.\u001b[39m_pick_service_url())\n",
      "File \u001b[0;32m~/miniforge3/envs/pyStudy/lib/python3.8/site-packages/googletrans/gtoken.py:200\u001b[0m, in \u001b[0;36mTokenAcquirer.do\u001b[0;34m(self, text)\u001b[0m\n\u001b[1;32m    199\u001b[0m \u001b[39mdef\u001b[39;00m \u001b[39mdo\u001b[39m(\u001b[39mself\u001b[39m, text):\n\u001b[0;32m--> 200\u001b[0m     \u001b[39mself\u001b[39;49m\u001b[39m.\u001b[39;49m_update()\n\u001b[1;32m    201\u001b[0m     tk \u001b[39m=\u001b[39m \u001b[39mself\u001b[39m\u001b[39m.\u001b[39macquire(text)\n\u001b[1;32m    202\u001b[0m     \u001b[39mreturn\u001b[39;00m tk\n",
      "File \u001b[0;32m~/miniforge3/envs/pyStudy/lib/python3.8/site-packages/googletrans/gtoken.py:65\u001b[0m, in \u001b[0;36mTokenAcquirer._update\u001b[0;34m(self)\u001b[0m\n\u001b[1;32m     62\u001b[0m     \u001b[39mreturn\u001b[39;00m\n\u001b[1;32m     64\u001b[0m \u001b[39m# this will be the same as python code after stripping out a reserved word 'var'\u001b[39;00m\n\u001b[0;32m---> 65\u001b[0m code \u001b[39m=\u001b[39m unicode(\u001b[39mself\u001b[39;49m\u001b[39m.\u001b[39;49mRE_TKK\u001b[39m.\u001b[39;49msearch(r\u001b[39m.\u001b[39;49mtext)\u001b[39m.\u001b[39;49mgroup(\u001b[39m1\u001b[39m))\u001b[39m.\u001b[39mreplace(\u001b[39m'\u001b[39m\u001b[39mvar \u001b[39m\u001b[39m'\u001b[39m, \u001b[39m'\u001b[39m\u001b[39m'\u001b[39m)\n\u001b[1;32m     66\u001b[0m \u001b[39m# unescape special ascii characters such like a \\x3d(=)\u001b[39;00m\n\u001b[1;32m     67\u001b[0m \u001b[39mif\u001b[39;00m PY3:  \u001b[39m# pragma: no cover\u001b[39;00m\n",
      "\u001b[0;31mAttributeError\u001b[0m: 'NoneType' object has no attribute 'group'"
     ]
    }
   ],
   "source": [
    "from googletrans import Translator\n",
    "\n",
    "translator = Translator()\n",
    "\n",
    "# sentence = \"안녕하세요 코드라이언입니다.\"\n",
    "sentence = input(\"언어를 감지할 문장을 입력해주세요 :\")\n",
    "detected = translator.detect(sentence)\n",
    "\n",
    "print(detected.lang)"
   ]
  },
  {
   "cell_type": "code",
   "execution_count": null,
   "metadata": {},
   "outputs": [],
   "source": []
  }
 ],
 "metadata": {
  "kernelspec": {
   "display_name": "Python 3.8.8 ('pyStudy')",
   "language": "python",
   "name": "python3"
  },
  "language_info": {
   "codemirror_mode": {
    "name": "ipython",
    "version": 3
   },
   "file_extension": ".py",
   "mimetype": "text/x-python",
   "name": "python",
   "nbconvert_exporter": "python",
   "pygments_lexer": "ipython3",
   "version": "3.8.8"
  },
  "orig_nbformat": 4,
  "vscode": {
   "interpreter": {
    "hash": "6e67753c16359c9c1c1b5896042d281dae29fc17996a6b3191feb1a39c4a237e"
   }
  }
 },
 "nbformat": 4,
 "nbformat_minor": 2
}
