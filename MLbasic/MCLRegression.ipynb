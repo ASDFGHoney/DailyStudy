{
 "cells": [
  {
   "cell_type": "code",
   "execution_count": 25,
   "metadata": {},
   "outputs": [],
   "source": [
    "#Importing Libraries\n",
    "import numpy as np\n",
    "import matplotlib\n",
    "import matplotlib.pyplot as plt\n",
    "import pandas as pd\n",
    "from sklearn import datasets\n",
    "import sys\n",
    "\n",
    "from sklearn.datasets import fetch_openml"
   ]
  },
  {
   "cell_type": "code",
   "execution_count": 26,
   "metadata": {},
   "outputs": [],
   "source": [
    "X, y = fetch_openml(\"mnist_784\", version=1, return_X_y=True, as_frame=False)"
   ]
  },
  {
   "cell_type": "code",
   "execution_count": 27,
   "metadata": {},
   "outputs": [],
   "source": [
    "X_train = np.array(X[:-10000])\n",
    "X_test = np.array(X[-10000:])\n",
    "\n",
    "y_train = y[:-10000].astype(np.int)\n",
    "y_test = y[-10000:].astype(np.int)\n",
    "\n",
    "n_values = np.max(y_train)+1\n",
    "y_train = np.eye(n_values)[y_train]\n",
    "y_test = np.eye(n_values)[y_test]"
   ]
  },
  {
   "cell_type": "code",
   "execution_count": 34,
   "metadata": {},
   "outputs": [],
   "source": [
    "class LogistricRegression:\n",
    "  def __init__(self, learning_rate = 0.01, epoch=2000):\n",
    "    self.learning_rate = learning_rate\n",
    "    self.epoch = epoch\n",
    "    self.w=[]\n",
    "    self.b=0\n",
    "  \n",
    "  def initialize_weight(self, dim):\n",
    "    w = np.random.normal(0,1,(dim,1))\n",
    "    b = np.random.rand(1)\n",
    "    return w,b\n",
    "  \n",
    "  def sigmoid(self, x):\n",
    "    s = 1/(1+np.exp(-x))\n",
    "    return s\n",
    "  \n",
    "  def hypothesis(self, w, X, b):\n",
    "    y_hat = self.sigmoid(np.matmul(X,w)+b)\n",
    "    y_hat = np.squeeze(y_hat)\n",
    "    return y_hat\n",
    "  \n",
    "  def cost(self, y_hat, y, N):\n",
    "    cost = -(1/N)*np.sum(y*np.log(y_hat)+(1-y)*np.log(1-y_hat))\n",
    "    cost = np.squeeze(cost)\n",
    "    return cost\n",
    "  \n",
    "  def cal_gradient(self, w, y_hat, X, y):\n",
    "    N=X.shape[1]\n",
    "    delta_w=(1/N)*np.matmul(X.T,(y_hat-y))\n",
    "    delta_b = (1/N)*np.sum(y_hat-y)\n",
    "    grads ={\"delta_w\":delta_w,\n",
    "            \"delta_b\":delta_b}\n",
    "    return grads\n",
    "  \n",
    "  def gradient_position(self, w,b,X,y):\n",
    "    N=X.shape[0];\n",
    "    y_hat = self.hypothesis(w,X,b)\n",
    "    cost = self.cost(y_hat, y, N)\n",
    "    grads = self.cal_gradient(w, y_hat, X, y)\n",
    "    return grads, cost\n",
    "  \n",
    "  def gradient_descent(self, w, b, X, y, print_cost = False):\n",
    "    costs = []\n",
    "    \n",
    "    for i in range(self.epoch):\n",
    "      grads, cost = self.gradient_position(w,b,X,y)\n",
    "      \n",
    "      delta_w = grads[\"delta_w\"]\n",
    "      delta_b = grads[\"delta_b\"]\n",
    "      \n",
    "      delta_w = delta_w.reshape(-1,1)\n",
    "      \n",
    "      w=w-(self.learning_rate*delta_w)\n",
    "      b=b-(self.learning_rate*delta_b)\n",
    "      if i%100==0:\n",
    "        costs.append(cost)\n",
    "      \n",
    "      if print_cost and i%100 == 0:\n",
    "        print(\"Cost after iteration %i: %f\" %(i, cost))\n",
    "        \n",
    "      params = {\"w\": w, \"b\": b}\n",
    "      grads = {\"delta_w\": delta_w, \"delta_b\": delta_b}\n",
    "      \n",
    "    return params, costs\n",
    "  \n",
    "  def train_model(self, X_train, Y_train, X_test, Y_test, print_cost = False):\n",
    "    dim = np.shape(X_train)[1]\n",
    "    w, b = self.initialize_weight(dim)\n",
    "    parameters, costs = self.gradient_descent(w, b, X_train, Y_train, print_cost = False)\n",
    "    \n",
    "    self.w = parameters[\"w\"]\n",
    "    self.b = parameters[\"b\"]\n",
    "    \n",
    "    Y_prediction_test = self.predict(X_test)\n",
    "    Y_prediction_train = self.predict(X_train)\n",
    "    \n",
    "    train_score = 100 - np.mean(np.abs(Y_prediction_train-Y_train))*100\n",
    "    test_score = 100 - np.mean(np.abs(Y_prediction_test - Y_test))*100\n",
    "    print(\"test accuracy: {} %\".format(100-np.mean(np.abs(Y_prediction_test - Y_test))*100))\n",
    "    result_dict = {\"costs\":costs,\n",
    "                    \"Y_prediction_test\": Y_prediction_test,\n",
    "                    \"Y_prediction_train\": Y_prediction_train,\n",
    "                    \"w\":self.w,\n",
    "                    \"b\":self.b,\n",
    "                    \"learning_rate\": self.learning_rate,\n",
    "                    \"num_iterations\": self.epoch,\n",
    "                    \"train accuracy\": train_score,\n",
    "                    \"test accuracy\": train_score\n",
    "                  }\n",
    "    return result_dict\n",
    "  "
   ]
  },
  {
   "cell_type": "code",
   "execution_count": 36,
   "metadata": {},
   "outputs": [
    {
     "name": "stderr",
     "output_type": "stream",
     "text": [
      "/var/folders/n8/19vjmv8j44g_86f11gm_qn940000gn/T/ipykernel_28210/3060058435.py:14: RuntimeWarning: overflow encountered in exp\n",
      "  s = 1/(1+np.exp(-x))\n",
      "/var/folders/n8/19vjmv8j44g_86f11gm_qn940000gn/T/ipykernel_28210/3060058435.py:23: RuntimeWarning: divide by zero encountered in log\n",
      "  cost = -(1/N)*np.sum(y*np.log(y_hat)+(1-y)*np.log(1-y_hat))\n"
     ]
    },
    {
     "ename": "ValueError",
     "evalue": "operands could not be broadcast together with shapes (60000,10) (60000,) ",
     "output_type": "error",
     "traceback": [
      "\u001b[0;31m---------------------------------------------------------------------------\u001b[0m",
      "\u001b[0;31mValueError\u001b[0m                                Traceback (most recent call last)",
      "\u001b[0;32m/var/folders/n8/19vjmv8j44g_86f11gm_qn940000gn/T/ipykernel_28210/3890439272.py\u001b[0m in \u001b[0;36m<module>\u001b[0;34m\u001b[0m\n\u001b[1;32m      1\u001b[0m \u001b[0mmdl\u001b[0m \u001b[0;34m=\u001b[0m \u001b[0mLogistricRegression\u001b[0m\u001b[0;34m(\u001b[0m\u001b[0;34m)\u001b[0m\u001b[0;34m\u001b[0m\u001b[0;34m\u001b[0m\u001b[0m\n\u001b[0;32m----> 2\u001b[0;31m \u001b[0mresult_dict\u001b[0m \u001b[0;34m=\u001b[0m \u001b[0mmdl\u001b[0m\u001b[0;34m.\u001b[0m\u001b[0mtrain_model\u001b[0m\u001b[0;34m(\u001b[0m\u001b[0mX_train\u001b[0m\u001b[0;34m,\u001b[0m \u001b[0my_train\u001b[0m\u001b[0;34m,\u001b[0m \u001b[0mX_test\u001b[0m\u001b[0;34m,\u001b[0m \u001b[0my_test\u001b[0m\u001b[0;34m)\u001b[0m\u001b[0;34m\u001b[0m\u001b[0;34m\u001b[0m\u001b[0m\n\u001b[0m",
      "\u001b[0;32m/var/folders/n8/19vjmv8j44g_86f11gm_qn940000gn/T/ipykernel_28210/3060058435.py\u001b[0m in \u001b[0;36mtrain_model\u001b[0;34m(self, X_train, Y_train, X_test, Y_test, print_cost)\u001b[0m\n\u001b[1;32m     67\u001b[0m     \u001b[0mdim\u001b[0m \u001b[0;34m=\u001b[0m \u001b[0mnp\u001b[0m\u001b[0;34m.\u001b[0m\u001b[0mshape\u001b[0m\u001b[0;34m(\u001b[0m\u001b[0mX_train\u001b[0m\u001b[0;34m)\u001b[0m\u001b[0;34m[\u001b[0m\u001b[0;36m1\u001b[0m\u001b[0;34m]\u001b[0m\u001b[0;34m\u001b[0m\u001b[0;34m\u001b[0m\u001b[0m\n\u001b[1;32m     68\u001b[0m     \u001b[0mw\u001b[0m\u001b[0;34m,\u001b[0m \u001b[0mb\u001b[0m \u001b[0;34m=\u001b[0m \u001b[0mself\u001b[0m\u001b[0;34m.\u001b[0m\u001b[0minitialize_weight\u001b[0m\u001b[0;34m(\u001b[0m\u001b[0mdim\u001b[0m\u001b[0;34m)\u001b[0m\u001b[0;34m\u001b[0m\u001b[0;34m\u001b[0m\u001b[0m\n\u001b[0;32m---> 69\u001b[0;31m     \u001b[0mparameters\u001b[0m\u001b[0;34m,\u001b[0m \u001b[0mcosts\u001b[0m \u001b[0;34m=\u001b[0m \u001b[0mself\u001b[0m\u001b[0;34m.\u001b[0m\u001b[0mgradient_descent\u001b[0m\u001b[0;34m(\u001b[0m\u001b[0mw\u001b[0m\u001b[0;34m,\u001b[0m \u001b[0mb\u001b[0m\u001b[0;34m,\u001b[0m \u001b[0mX_train\u001b[0m\u001b[0;34m,\u001b[0m \u001b[0mY_train\u001b[0m\u001b[0;34m,\u001b[0m \u001b[0mprint_cost\u001b[0m \u001b[0;34m=\u001b[0m \u001b[0;32mFalse\u001b[0m\u001b[0;34m)\u001b[0m\u001b[0;34m\u001b[0m\u001b[0;34m\u001b[0m\u001b[0m\n\u001b[0m\u001b[1;32m     70\u001b[0m \u001b[0;34m\u001b[0m\u001b[0m\n\u001b[1;32m     71\u001b[0m     \u001b[0mself\u001b[0m\u001b[0;34m.\u001b[0m\u001b[0mw\u001b[0m \u001b[0;34m=\u001b[0m \u001b[0mparameters\u001b[0m\u001b[0;34m[\u001b[0m\u001b[0;34m\"w\"\u001b[0m\u001b[0;34m]\u001b[0m\u001b[0;34m\u001b[0m\u001b[0;34m\u001b[0m\u001b[0m\n",
      "\u001b[0;32m/var/folders/n8/19vjmv8j44g_86f11gm_qn940000gn/T/ipykernel_28210/3060058435.py\u001b[0m in \u001b[0;36mgradient_descent\u001b[0;34m(self, w, b, X, y, print_cost)\u001b[0m\n\u001b[1;32m     44\u001b[0m \u001b[0;34m\u001b[0m\u001b[0m\n\u001b[1;32m     45\u001b[0m     \u001b[0;32mfor\u001b[0m \u001b[0mi\u001b[0m \u001b[0;32min\u001b[0m \u001b[0mrange\u001b[0m\u001b[0;34m(\u001b[0m\u001b[0mself\u001b[0m\u001b[0;34m.\u001b[0m\u001b[0mepoch\u001b[0m\u001b[0;34m)\u001b[0m\u001b[0;34m:\u001b[0m\u001b[0;34m\u001b[0m\u001b[0;34m\u001b[0m\u001b[0m\n\u001b[0;32m---> 46\u001b[0;31m       \u001b[0mgrads\u001b[0m\u001b[0;34m,\u001b[0m \u001b[0mcost\u001b[0m \u001b[0;34m=\u001b[0m \u001b[0mself\u001b[0m\u001b[0;34m.\u001b[0m\u001b[0mgradient_position\u001b[0m\u001b[0;34m(\u001b[0m\u001b[0mw\u001b[0m\u001b[0;34m,\u001b[0m\u001b[0mb\u001b[0m\u001b[0;34m,\u001b[0m\u001b[0mX\u001b[0m\u001b[0;34m,\u001b[0m\u001b[0my\u001b[0m\u001b[0;34m)\u001b[0m\u001b[0;34m\u001b[0m\u001b[0;34m\u001b[0m\u001b[0m\n\u001b[0m\u001b[1;32m     47\u001b[0m \u001b[0;34m\u001b[0m\u001b[0m\n\u001b[1;32m     48\u001b[0m       \u001b[0mdelta_w\u001b[0m \u001b[0;34m=\u001b[0m \u001b[0mgrads\u001b[0m\u001b[0;34m[\u001b[0m\u001b[0;34m\"delta_w\"\u001b[0m\u001b[0;34m]\u001b[0m\u001b[0;34m\u001b[0m\u001b[0;34m\u001b[0m\u001b[0m\n",
      "\u001b[0;32m/var/folders/n8/19vjmv8j44g_86f11gm_qn940000gn/T/ipykernel_28210/3060058435.py\u001b[0m in \u001b[0;36mgradient_position\u001b[0;34m(self, w, b, X, y)\u001b[0m\n\u001b[1;32m     36\u001b[0m     \u001b[0mN\u001b[0m\u001b[0;34m=\u001b[0m\u001b[0mX\u001b[0m\u001b[0;34m.\u001b[0m\u001b[0mshape\u001b[0m\u001b[0;34m[\u001b[0m\u001b[0;36m0\u001b[0m\u001b[0;34m]\u001b[0m\u001b[0;34m;\u001b[0m\u001b[0;34m\u001b[0m\u001b[0;34m\u001b[0m\u001b[0m\n\u001b[1;32m     37\u001b[0m     \u001b[0my_hat\u001b[0m \u001b[0;34m=\u001b[0m \u001b[0mself\u001b[0m\u001b[0;34m.\u001b[0m\u001b[0mhypothesis\u001b[0m\u001b[0;34m(\u001b[0m\u001b[0mw\u001b[0m\u001b[0;34m,\u001b[0m\u001b[0mX\u001b[0m\u001b[0;34m,\u001b[0m\u001b[0mb\u001b[0m\u001b[0;34m)\u001b[0m\u001b[0;34m\u001b[0m\u001b[0;34m\u001b[0m\u001b[0m\n\u001b[0;32m---> 38\u001b[0;31m     \u001b[0mcost\u001b[0m \u001b[0;34m=\u001b[0m \u001b[0mself\u001b[0m\u001b[0;34m.\u001b[0m\u001b[0mcost\u001b[0m\u001b[0;34m(\u001b[0m\u001b[0my_hat\u001b[0m\u001b[0;34m,\u001b[0m \u001b[0my\u001b[0m\u001b[0;34m,\u001b[0m \u001b[0mN\u001b[0m\u001b[0;34m)\u001b[0m\u001b[0;34m\u001b[0m\u001b[0;34m\u001b[0m\u001b[0m\n\u001b[0m\u001b[1;32m     39\u001b[0m     \u001b[0mgrads\u001b[0m \u001b[0;34m=\u001b[0m \u001b[0mself\u001b[0m\u001b[0;34m.\u001b[0m\u001b[0mcal_gradient\u001b[0m\u001b[0;34m(\u001b[0m\u001b[0mw\u001b[0m\u001b[0;34m,\u001b[0m \u001b[0my_hat\u001b[0m\u001b[0;34m,\u001b[0m \u001b[0mX\u001b[0m\u001b[0;34m,\u001b[0m \u001b[0my\u001b[0m\u001b[0;34m)\u001b[0m\u001b[0;34m\u001b[0m\u001b[0;34m\u001b[0m\u001b[0m\n\u001b[1;32m     40\u001b[0m     \u001b[0;32mreturn\u001b[0m \u001b[0mgrads\u001b[0m\u001b[0;34m,\u001b[0m \u001b[0mcost\u001b[0m\u001b[0;34m\u001b[0m\u001b[0;34m\u001b[0m\u001b[0m\n",
      "\u001b[0;32m/var/folders/n8/19vjmv8j44g_86f11gm_qn940000gn/T/ipykernel_28210/3060058435.py\u001b[0m in \u001b[0;36mcost\u001b[0;34m(self, y_hat, y, N)\u001b[0m\n\u001b[1;32m     21\u001b[0m \u001b[0;34m\u001b[0m\u001b[0m\n\u001b[1;32m     22\u001b[0m   \u001b[0;32mdef\u001b[0m \u001b[0mcost\u001b[0m\u001b[0;34m(\u001b[0m\u001b[0mself\u001b[0m\u001b[0;34m,\u001b[0m \u001b[0my_hat\u001b[0m\u001b[0;34m,\u001b[0m \u001b[0my\u001b[0m\u001b[0;34m,\u001b[0m \u001b[0mN\u001b[0m\u001b[0;34m)\u001b[0m\u001b[0;34m:\u001b[0m\u001b[0;34m\u001b[0m\u001b[0;34m\u001b[0m\u001b[0m\n\u001b[0;32m---> 23\u001b[0;31m     \u001b[0mcost\u001b[0m \u001b[0;34m=\u001b[0m \u001b[0;34m-\u001b[0m\u001b[0;34m(\u001b[0m\u001b[0;36m1\u001b[0m\u001b[0;34m/\u001b[0m\u001b[0mN\u001b[0m\u001b[0;34m)\u001b[0m\u001b[0;34m*\u001b[0m\u001b[0mnp\u001b[0m\u001b[0;34m.\u001b[0m\u001b[0msum\u001b[0m\u001b[0;34m(\u001b[0m\u001b[0my\u001b[0m\u001b[0;34m*\u001b[0m\u001b[0mnp\u001b[0m\u001b[0;34m.\u001b[0m\u001b[0mlog\u001b[0m\u001b[0;34m(\u001b[0m\u001b[0my_hat\u001b[0m\u001b[0;34m)\u001b[0m\u001b[0;34m+\u001b[0m\u001b[0;34m(\u001b[0m\u001b[0;36m1\u001b[0m\u001b[0;34m-\u001b[0m\u001b[0my\u001b[0m\u001b[0;34m)\u001b[0m\u001b[0;34m*\u001b[0m\u001b[0mnp\u001b[0m\u001b[0;34m.\u001b[0m\u001b[0mlog\u001b[0m\u001b[0;34m(\u001b[0m\u001b[0;36m1\u001b[0m\u001b[0;34m-\u001b[0m\u001b[0my_hat\u001b[0m\u001b[0;34m)\u001b[0m\u001b[0;34m)\u001b[0m\u001b[0;34m\u001b[0m\u001b[0;34m\u001b[0m\u001b[0m\n\u001b[0m\u001b[1;32m     24\u001b[0m     \u001b[0mcost\u001b[0m \u001b[0;34m=\u001b[0m \u001b[0mnp\u001b[0m\u001b[0;34m.\u001b[0m\u001b[0msqueeze\u001b[0m\u001b[0;34m(\u001b[0m\u001b[0mcost\u001b[0m\u001b[0;34m)\u001b[0m\u001b[0;34m\u001b[0m\u001b[0;34m\u001b[0m\u001b[0m\n\u001b[1;32m     25\u001b[0m     \u001b[0;32mreturn\u001b[0m \u001b[0mcost\u001b[0m\u001b[0;34m\u001b[0m\u001b[0;34m\u001b[0m\u001b[0m\n",
      "\u001b[0;31mValueError\u001b[0m: operands could not be broadcast together with shapes (60000,10) (60000,) "
     ]
    }
   ],
   "source": [
    "mdl = LogistricRegression()\n",
    "result_dict = mdl.train_model(X_train, y_train, X_test, y_test)"
   ]
  },
  {
   "cell_type": "code",
   "execution_count": 40,
   "metadata": {},
   "outputs": [
    {
     "data": {
      "image/png": "[encoded data removed]",
      "text/plain": [
       "<Figure size 1440x360 with 6 Axes>"
      ]
     },
     "metadata": {
      "needs_background": "light"
     },
     "output_type": "display_data"
    }
   ],
   "source": [
    "plt.figure(figsize=(20,5))\n",
    "for index, (image,label) in enumerate(zip(X[:6], y[:6])):\n",
    "    plt.subplot(1, 6, index+1)\n",
    "    plt.imshow(np.reshape(image, (28,28)), cmap=\"gray\")\n",
    "    plt.title(\"Label: %s / Pred: %s\" % (label, label))"
   ]
  }
 ],
 "metadata": {
  "interpreter": {
   "hash": "304862d81420ed8f6e7d7a781ae544208d671f1b0b8553a826fb8867a59896cf"
  },
  "kernelspec": {
   "display_name": "Python 3.9.9 ('mlStudy')",
   "language": "python",
   "name": "python3"
  },
  "language_info": {
   "codemirror_mode": {
    "name": "ipython",
    "version": 3
   },
   "file_extension": ".py",
   "mimetype": "text/x-python",
   "name": "python",
   "nbconvert_exporter": "python",
   "pygments_lexer": "ipython3",
   "version": "3.9.9"
  },
  "orig_nbformat": 4
 },
 "nbformat": 4,
 "nbformat_minor": 2
}
