{
 "cells": [
  {
   "cell_type": "code",
   "execution_count": 5,
   "metadata": {},
   "outputs": [
    {
     "name": "stdout",
     "output_type": "stream",
     "text": [
      "[[1.16]\n",
      " [0.42]\n",
      " [0.62]]\n",
      "[[0.76133271]\n",
      " [0.60348325]\n",
      " [0.65021855]]\n",
      "[[0.72630335]\n",
      " [0.70859807]\n",
      " [0.77809706]]\n"
     ]
    }
   ],
   "source": [
    "import numpy as np\n",
    "\n",
    "\n",
    "def sigmoid(x):\n",
    "    return 1 / (1 + np.exp(-x))\n",
    "\n",
    "\n",
    "if __name__ == '__main__':\n",
    "    inpData = np.array([[0.9], [0.1], [0.8]])\n",
    "    Wih = np.array([[0.9, 0.3, 0.4], [0.2, 0.8, 0.2], [0.1, 0.5, 0.6]])\n",
    "    Who = np.array([[0.3, 0.7, 0.5], [0.6, 0.5, 0.2], [0.8, 0.1, 0.9]])\n",
    "    Xhid = np.dot(Wih, inpData)\n",
    "    print(Xhid)\n",
    "    Ohid = sigmoid(Xhid)\n",
    "    print(Ohid)\n",
    "    Xout = np.dot(Who,Ohid)\n",
    "    Oout = sigmoid(Xout)\n",
    "    print(Oout)\n"
   ]
  }
 ],
 "metadata": {
  "interpreter": {
   "hash": "6e67753c16359c9c1c1b5896042d281dae29fc17996a6b3191feb1a39c4a237e"
  },
  "kernelspec": {
   "display_name": "Python 3.8.8 ('pyStudy')",
   "language": "python",
   "name": "python3"
  },
  "language_info": {
   "codemirror_mode": {
    "name": "ipython",
    "version": 3
   },
   "file_extension": ".py",
   "mimetype": "text/x-python",
   "name": "python",
   "nbconvert_exporter": "python",
   "pygments_lexer": "ipython3",
   "version": "3.9.10"
  },
  "orig_nbformat": 4
 },
 "nbformat": 4,
 "nbformat_minor": 2
}
